{
 "cells": [
  {
   "cell_type": "code",
   "execution_count": null,
   "id": "37463a39",
   "metadata": {},
   "outputs": [],
   "source": [
    "#Automatic File sorter in File Explorer "
   ]
  },
  {
   "cell_type": "code",
   "execution_count": 2,
   "id": "7f0680d5",
   "metadata": {},
   "outputs": [],
   "source": [
    "import os, shutil\n"
   ]
  },
  {
   "cell_type": "code",
   "execution_count": 4,
   "id": "d410ed50",
   "metadata": {},
   "outputs": [],
   "source": [
    "path = r\"D:/Data Analyst/Alex/py project/\"\n"
   ]
  },
  {
   "cell_type": "code",
   "execution_count": 5,
   "id": "bb174036",
   "metadata": {},
   "outputs": [],
   "source": [
    "file_name = os.listdir(path)\n"
   ]
  },
  {
   "cell_type": "code",
   "execution_count": 6,
   "id": "a1a40bdd",
   "metadata": {},
   "outputs": [],
   "source": [
    "Folder_names =['jpeg file', 'image file',' pdf file','doc file']\n"
   ]
  },
  {
   "cell_type": "code",
   "execution_count": 11,
   "id": "ca1e5b4d",
   "metadata": {},
   "outputs": [],
   "source": [
    "for loop in range(0,4):\n",
    "    if not os.path.exists(path + Folder_names[loop]):\n",
    "     # print(path + Folder_names[loop])\n",
    "      os.makedirs(path + Folder_names[loop]) \n",
    "        \n",
    "        \n",
    "for file in file_name:\n",
    "    if \".jpeg\" in file and not os.path.exists(path + \"jpeg file/\" + file):\n",
    "        shutil.move(path + file, path + \"jpeg file/\" + file)\n",
    "    elif\".png\" in file and not os.path.exists(path + \"image file/\" + file):\n",
    "        shutil.move(path + file, path + \"image file/\" + file)   \n",
    "    elif\".docx\" in file and not os.path.exists(path + \"doc file/\" + file):\n",
    "        shutil.move(path + file, path + \"doc file/\" + file)"
   ]
  },
  {
   "cell_type": "code",
   "execution_count": null,
   "id": "12bd4ca4",
   "metadata": {},
   "outputs": [],
   "source": []
  },
  {
   "cell_type": "code",
   "execution_count": null,
   "id": "3ff5762c",
   "metadata": {},
   "outputs": [],
   "source": []
  },
  {
   "cell_type": "code",
   "execution_count": null,
   "id": "331bcf12",
   "metadata": {},
   "outputs": [],
   "source": []
  },
  {
   "cell_type": "code",
   "execution_count": null,
   "id": "920d8305",
   "metadata": {},
   "outputs": [],
   "source": []
  },
  {
   "cell_type": "code",
   "execution_count": null,
   "id": "17150535",
   "metadata": {},
   "outputs": [],
   "source": []
  },
  {
   "cell_type": "code",
   "execution_count": null,
   "id": "b5962eeb",
   "metadata": {},
   "outputs": [],
   "source": []
  },
  {
   "cell_type": "code",
   "execution_count": null,
   "id": "26c920ee",
   "metadata": {},
   "outputs": [],
   "source": []
  },
  {
   "cell_type": "code",
   "execution_count": null,
   "id": "c1646378",
   "metadata": {},
   "outputs": [],
   "source": []
  },
  {
   "cell_type": "code",
   "execution_count": null,
   "id": "321f46a7",
   "metadata": {},
   "outputs": [],
   "source": []
  },
  {
   "cell_type": "code",
   "execution_count": null,
   "id": "1ecd604e",
   "metadata": {},
   "outputs": [],
   "source": []
  }
 ],
 "metadata": {
  "kernelspec": {
   "display_name": "Python 3 (ipykernel)",
   "language": "python",
   "name": "python3"
  },
  "language_info": {
   "codemirror_mode": {
    "name": "ipython",
    "version": 3
   },
   "file_extension": ".py",
   "mimetype": "text/x-python",
   "name": "python",
   "nbconvert_exporter": "python",
   "pygments_lexer": "ipython3",
   "version": "3.9.12"
  }
 },
 "nbformat": 4,
 "nbformat_minor": 5
}
